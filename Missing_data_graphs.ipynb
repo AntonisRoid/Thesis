{
 "cells": [
  {
   "cell_type": "code",
   "execution_count": null,
   "id": "47d9752e",
   "metadata": {},
   "outputs": [],
   "source": [
    "import time\n",
    "import numpy as np\n",
    "import pandas as pd\n",
    "import os\n",
    "from os.path import join, abspath, dirname, realpath\n",
    "import sys\n",
    "import datetime\n",
    "from dateutil.relativedelta import relativedelta\n",
    "from datetime import date, timedelta\n",
    "from dateutil import relativedelta\n",
    "import matplotlib.pyplot as plt\n",
    "import seaborn as sns\n",
    "import sklearn\n",
    "from sklearn.preprocessing import StandardScaler\n",
    "from sklearn.utils import class_weight\n",
    "from sklearn.metrics import f1_score, accuracy_score, confusion_matrix, roc_auc_score\n",
    "from matplotlib.colors import LinearSegmentedColormap\n",
    "\n",
    "\n",
    "from dateutil.relativedelta import relativedelta\n",
    "\n",
    "from sklearn.metrics import average_precision_score, precision_recall_curve\n",
    "from sklearn.metrics import auc\n",
    "import argparse\n",
    "import csv\n",
    "\n",
    "\n",
    "import multiprocessing as mp\n",
    "from multiprocessing import Process\n",
    "\n",
    "from functools import partial\n",
    "from skopt import gp_minimize\n",
    "from skopt import space\n",
    "\n",
    "from functions import *\n",
    "from Train_bayes import *\n",
    "import seaborn as sns\n",
    "from collections import Counter\n",
    "from matplotlib.colors import LinearSegmentedColormap\n"
   ]
  },
  {
   "cell_type": "code",
   "execution_count": null,
   "id": "559c03d3",
   "metadata": {},
   "outputs": [],
   "source": [
    "df = pd.read_csv('df_clean_plus.csv', sep=',', index_col=False, dtype='unicode')#, error_bad_lines=False\n",
    "df['date']=pd.to_datetime(df['date'])\n"
   ]
  },
  {
   "cell_type": "code",
   "execution_count": null,
   "id": "8f5ea7c8",
   "metadata": {},
   "outputs": [],
   "source": [
    "#Data statistic metrics\n",
    "x=df[df.imputation=='False']\n",
    "data=[]\n",
    "for i in np.unique(x.patient_id):\n",
    "    data.append(x[x.patient_id==i].shape[0])\n",
    "data=np.array(data)\n",
    "print(np.mean(data),np.std(data),sum(data),min(data))\n",
    "np.std(np.array([2,100,112,122,123,100]))"
   ]
  },
  {
   "cell_type": "code",
   "execution_count": null,
   "id": "7fca9216",
   "metadata": {},
   "outputs": [],
   "source": [
    "x=df.groupby(['patient_id','order']).size().reset_index(name='Count')\n",
    "seq_each_patient=[]\n",
    "for p in np.unique(x.patient_id):\n",
    "    seq_each_patient.append(len(x[(x.patient_id==p)]))\n",
    "    "
   ]
  },
  {
   "cell_type": "code",
   "execution_count": null,
   "id": "57d4aa0f",
   "metadata": {},
   "outputs": [],
   "source": [
    "#count sequences per patient\n",
    "count_dict=Counter(seq_each_patient)\n",
    "for k,v in count_dict.items():\n",
    "    print(k,'occurs', v, 'times')"
   ]
  },
  {
   "cell_type": "code",
   "execution_count": null,
   "id": "e2275cf4",
   "metadata": {},
   "outputs": [],
   "source": [
    "#use of imputation as dummy variable to create the plot with missing values\n",
    "#big gaps had to be different colour so I use different value for the imputation of big gaps\n",
    "#this is used only here and not for the training or testing of the models\n",
    "\n",
    "pat_id=np.unique(df['patient_id'])\n",
    "order=0\n",
    "a=1\n",
    "for j,patient in enumerate(pat_id):\n",
    "\n",
    "    pat_data=df[df['patient_id']==patient].sort_values(by='date')\n",
    "    pat_data.reset_index(drop=True, inplace=True)\n",
    "    p=pat_data['date']\n",
    "    day_before_gap=[]\n",
    "    days_to_add=[]\n",
    "    #iteration to the days of each patients to find gaps inbetween\n",
    "    for i in np.arange(1,p.shape[0]):\n",
    "        gap = relativedelta(p[i],p[i-1])\n",
    "        if gap.months>0 or gap.years>0:\n",
    "            \n",
    "            for z in np.arange(1,(p[i]-p[i-1]).days):#+ 1):\n",
    "\n",
    "                l=p[i-1]+timedelta(days=int(z))\n",
    "                days_to_add.append(l)\n",
    "\n",
    "    df1 = pd.DataFrame({\n",
    "                    \"patient_id\": len(days_to_add)*[patient],\n",
    "                    \"date\": days_to_add,\n",
    "                    \"imputation\": len(days_to_add)*[2]\n",
    "                })\n",
    "                \n",
    "    df = pd.concat([df,df1])\n",
    "    \n"
   ]
  },
  {
   "cell_type": "code",
   "execution_count": null,
   "id": "7df8a72b",
   "metadata": {},
   "outputs": [],
   "source": [
    "df['imputation']=df['imputation'].replace('False',0)\n",
    "df['imputation']=df['imputation'].replace('True',1)\n",
    "df['date']=pd.to_datetime(df['date'])\n",
    "df=df.sort_values(['patient_id','date'])\n",
    "df=df.reset_index(drop=True)\n"
   ]
  },
  {
   "cell_type": "markdown",
   "id": "2383074e",
   "metadata": {},
   "source": [
    "# Patients with big gaps"
   ]
  },
  {
   "cell_type": "code",
   "execution_count": null,
   "id": "b41407ad",
   "metadata": {},
   "outputs": [],
   "source": [
    "#to make graphs I used data after '2021-10-01'\n",
    "df1=df.loc[(df['date']>pd.to_datetime('2021-10-01'))]\n",
    "\n",
    "#only patients with imputation==2-> big gaps of data\n",
    "p=np.unique(df1.loc[df1['imputation']==2]['patient_id'])\n",
    "df1=df1.loc[df1['patient_id'].isin(p),:]\n",
    "\n"
   ]
  },
  {
   "cell_type": "code",
   "execution_count": null,
   "id": "616f20d1",
   "metadata": {},
   "outputs": [],
   "source": [
    "#use of imputation as dummy variable \n",
    "p=np.unique(df1['date'])\n",
    "max_date=max(df1['date'])\n",
    "min_date=min(df1['date'])\n",
    "\n",
    "for patient in np.unique(df1.patient_id): \n",
    "    days=[]\n",
    "    patient_last_day=max(df.loc[df['patient_id']==patient]['date'])\n",
    "    patient_first_day=min(df.loc[df['patient_id']==patient]['date'])\n",
    "\n",
    "    \n",
    "    for i in range((max_date-patient_last_day).days):\n",
    "        day= patient_last_day + timedelta(days=i+1)\n",
    "\n",
    "        if df1[(df1['patient_id']==patient)&(df1['date']==day)].empty:\n",
    "            days.append(day)\n",
    "            \n",
    "    for i in range((patient_first_day-min_date).days):\n",
    "        day= min_date + timedelta(days=i)\n",
    "\n",
    "        if df1[(df1['patient_id']==patient)&(df1['date']==day)].empty:\n",
    "            days.append(day)\n",
    "    \n",
    "    df2 = pd.DataFrame({\n",
    "                    \"patient_id\": len(days)*[patient],\n",
    "                    \"date\": days,\n",
    "                    \"imputation\": len(days)*[3]\n",
    "                })\n",
    "\n",
    "    \n",
    "    df1 = pd.concat([df1,df2])\n"
   ]
  },
  {
   "cell_type": "code",
   "execution_count": null,
   "id": "01025845",
   "metadata": {},
   "outputs": [],
   "source": [
    "df1['date']=df1['date'].dt.strftime('%Y-%m-%d')\n",
    "dfp = df1.pivot_table(index='patient_id', columns='date', values='imputation')\n",
    "df1"
   ]
  },
  {
   "cell_type": "code",
   "execution_count": null,
   "id": "0e61872e",
   "metadata": {},
   "outputs": [],
   "source": [
    "# drawing the plot\n",
    "sns.set(rc={'axes.facecolor':'w'})\n",
    "fig, ax = plt.subplots(figsize=(10, 6))\n",
    "#with gaps\n",
    "cmap_rg=LinearSegmentedColormap.from_list('rg',['g','w','r','lightgrey'], N=256)\n",
    "\n",
    "x=sns.heatmap(dfp, ax=ax,cmap=cmap_rg,cbar=False,linewidth=0.1,linecolor='lightgrey',yticklabels=True)#,cmap=\"RdYlGn_r\",linewidths=0)#cmap='GnBu',ax=ax)\n",
    "\n",
    "\n",
    "plt.xticks(fontsize=8)\n",
    "\n",
    "plt.yticks(fontsize=6)\n",
    "plt.ylabel('Patients_id')\n",
    "plt.xlabel('Date')\n",
    "plt.show()"
   ]
  },
  {
   "cell_type": "markdown",
   "id": "d36627ec",
   "metadata": {},
   "source": [
    "# Patients without big gaps"
   ]
  },
  {
   "cell_type": "code",
   "execution_count": null,
   "id": "69bd36db",
   "metadata": {},
   "outputs": [],
   "source": [
    "df1=df.loc[(df['date']>pd.to_datetime('2021-10-01'))]#& (df['date']<pd.to_datetime('2021-06-15'))]\n",
    "\n",
    "#only patients with imputation==2-> big gaps of data\n",
    "p=np.unique(df1.loc[df1['imputation']==2]['patient_id'])\n",
    "df1=df1.loc[~df1['patient_id'].isin(p),:]\n",
    "p_nogap=np.unique(df1.patient_id)\n",
    "random.seed(1995)\n",
    "random_pick=random.sample(range(0, np.unique(df1.patient_id).shape[0]), 47)\n",
    "\n",
    "df1=df1.loc[df1['patient_id'].isin(p_nogap[random_pick]),:]\n",
    "np.unique(df1.patient_id).shape"
   ]
  },
  {
   "cell_type": "code",
   "execution_count": null,
   "id": "6c23963e",
   "metadata": {},
   "outputs": [],
   "source": [
    "#preparation of te dummy variable\n",
    "#exactly the same as previously \n",
    "\n",
    "p=np.unique(df1['date'])\n",
    "max_date=max(df1['date'])\n",
    "min_date=min(df1['date'])\n",
    "\n",
    "for patient in np.unique(df1.patient_id): \n",
    "    days=[]\n",
    "    patient_last_day=max(df.loc[df['patient_id']==patient]['date'])\n",
    "    patient_first_day=min(df.loc[df['patient_id']==patient]['date'])\n",
    "\n",
    "    \n",
    "    for i in range((max_date-patient_last_day).days):\n",
    "        day= patient_last_day + timedelta(days=i+1)\n",
    "\n",
    "        if df1[(df1['patient_id']==patient)&(df1['date']==day)].empty:\n",
    "            days.append(day)\n",
    "            \n",
    "    for i in range((patient_first_day-min_date).days):\n",
    "        day= min_date + timedelta(days=i)\n",
    "\n",
    "        if df1[(df1['patient_id']==patient)&(df1['date']==day)].empty:\n",
    "            days.append(day)\n",
    "    \n",
    "    df2 = pd.DataFrame({\n",
    "                    \"patient_id\": len(days)*[patient],\n",
    "                    \"date\": days,\n",
    "                    \"imputation\": len(days)*[3]\n",
    "                })\n",
    "\n",
    "    \n",
    "    df1 = pd.concat([df1,df2])\n"
   ]
  },
  {
   "cell_type": "code",
   "execution_count": null,
   "id": "9dc25f0e",
   "metadata": {},
   "outputs": [],
   "source": [
    "df1['date']=df1['date'].dt.strftime('%Y-%m-%d')\n",
    "dfp = df1.pivot_table(index='patient_id', columns='date', values='imputation')\n",
    "df1"
   ]
  },
  {
   "cell_type": "code",
   "execution_count": null,
   "id": "85a21a5e",
   "metadata": {},
   "outputs": [],
   "source": [
    "\n",
    "# drawing the plot\n",
    "sns.set(rc={'axes.facecolor':'w'})\n",
    "fig, ax = plt.subplots(figsize=(10, 6))\n",
    "#with gaps\n",
    "cmap_rg=LinearSegmentedColormap.from_list('rg',['g','w','r','lightgrey'], N=256)\n",
    "\n",
    "x=sns.heatmap(dfp, ax=ax,cmap=cmap_rg,cbar=False,linewidth=0.1,linecolor='lightgrey',yticklabels=True)#,cmap=\"RdYlGn_r\",linewidths=0)#cmap='GnBu',ax=ax)\n",
    "\n",
    "\n",
    "plt.xticks(fontsize=8)\n",
    "\n",
    "plt.yticks(fontsize=6)\n",
    "plt.ylabel('Patients_id')\n",
    "plt.xlabel('Date')\n",
    "plt.show()"
   ]
  },
  {
   "cell_type": "code",
   "execution_count": null,
   "id": "8a4b1d5d",
   "metadata": {},
   "outputs": [],
   "source": []
  }
 ],
 "metadata": {
  "kernelspec": {
   "display_name": "Python 3 (ipykernel)",
   "language": "python",
   "name": "python3"
  },
  "language_info": {
   "codemirror_mode": {
    "name": "ipython",
    "version": 3
   },
   "file_extension": ".py",
   "mimetype": "text/x-python",
   "name": "python",
   "nbconvert_exporter": "python",
   "pygments_lexer": "ipython3",
   "version": "3.8.5"
  }
 },
 "nbformat": 4,
 "nbformat_minor": 5
}
