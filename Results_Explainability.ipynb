{
 "cells": [
  {
   "cell_type": "code",
   "execution_count": null,
   "id": "01b687b9",
   "metadata": {},
   "outputs": [],
   "source": [
    "import time\n",
    "import numpy as np\n",
    "import pandas as pd\n",
    "import os\n",
    "from os.path import join, abspath, dirname, realpath\n",
    "import sys\n",
    "import datetime\n",
    "from dateutil.relativedelta import relativedelta\n",
    "from datetime import date, timedelta\n",
    "from dateutil import relativedelta\n",
    "import matplotlib.pyplot as plt\n",
    "import seaborn as sns\n",
    "import sklearn\n",
    "from sklearn.preprocessing import StandardScaler\n",
    "from sklearn.utils import class_weight\n",
    "from sklearn.metrics import f1_score, accuracy_score, confusion_matrix, roc_auc_score\n",
    "\n",
    "\n",
    "from dateutil.relativedelta import relativedelta\n",
    "\n",
    "from sklearn.metrics import average_precision_score, precision_recall_curve\n",
    "from sklearn.metrics import auc\n",
    "import argparse\n",
    "import csv\n",
    "\n",
    "\n",
    "import multiprocessing as mp\n",
    "from multiprocessing import Process\n",
    "\n",
    "from functools import partial\n",
    "from skopt import gp_minimize\n",
    "from skopt import space\n",
    "\n",
    "from functions import *\n",
    "# testarw kati. bgalto apo comment an den treksei olo \n",
    "#from Train_bayes import *\n",
    "from Train_bayes_pr import *\n",
    "import shap\n"
   ]
  },
  {
   "cell_type": "code",
   "execution_count": null,
   "id": "9f789942",
   "metadata": {},
   "outputs": [],
   "source": [
    "#preparation of the data\n",
    "def data_prep(data):\n",
    "    \n",
    "    data['date']=pd.to_datetime(data['date'])\n",
    "    data['migraine_start']=data['migraine_start'].astype(int)\n",
    "    data['order']=data['order'].astype(float).astype(int)\n",
    "    data['imputation']=data['imputation'].astype(float).astype(int)\n",
    "    data.loc[:, ['temp_avg','sun_perc','precip_tot',\n",
    "                  'pres_avg','cloud_avg','wind_avg','hum_avg',]] = data.loc[:, ['temp_avg','sun_perc','precip_tot','pres_avg',\n",
    "                  'cloud_avg','wind_avg','hum_avg',]].astype(float)\n",
    "    \n",
    "    data=data.sort_values(['order', 'date'])\n",
    "    data.reset_index(drop=True, inplace=True)\n",
    "    return(data)"
   ]
  },
  {
   "cell_type": "code",
   "execution_count": null,
   "id": "e6ac0670",
   "metadata": {},
   "outputs": [],
   "source": [
    "#files for lstm: performance_lstm_train.zip and performance_lstm_test.zip\n",
    "\n",
    "#files for gru: performance_gru_train.zip and performance_gru_test.zip\n",
    "\n",
    "#reads predictions from every model\n",
    "def get_predictions(path_for_train,path_for_test):\n",
    "    train_values_p = pd.read_csv(path_for_train, sep=',', index_col=False, dtype='unicode')\n",
    "    test_values_p = pd.read_csv(path_for_test, sep=',', index_col=False, dtype='unicode')\n",
    "\n",
    "    train_values_p['1']=train_values_p['1'].astype(float).astype(int)\n",
    "    train_values_p['0']=train_values_p['0'].astype(float)\n",
    "    test_values_p['1']=test_values_p['1'].astype(float).astype(int)\n",
    "    test_values_p['0']=test_values_p['0'].astype(float)\n",
    "    (train_values_p).columns=['pred','real']\n",
    "    (test_values_p).columns=['pred','real']\n",
    "\n",
    "    return(train_values_p,test_values_p)\n",
    "\n",
    "#evaluates AUC pr of the predictions\n",
    "def evalute_results(train_values_p,test_values_p):\n",
    "    precision, recall, thresholds = precision_recall_curve(train_values_p['real'].to_numpy(), \n",
    "                                                           train_values_p['pred'].to_numpy())\n",
    "    auc_pr_train=auc(recall, precision)\n",
    "\n",
    "    precision, recall, thresholds = precision_recall_curve(test_values_p['real'].to_numpy(), \n",
    "                                                           test_values_p['pred'].to_numpy())\n",
    "    auc_pr_test=auc(recall, precision)\n",
    "    print(f'AUC PR: Test={round(auc_pr_test,3)}, Train={round(auc_pr_train,3)}')"
   ]
  },
  {
   "cell_type": "code",
   "execution_count": null,
   "id": "dec3b136",
   "metadata": {},
   "outputs": [],
   "source": [
    "#generates AUC_pr for every patient individually\n",
    "def results_individually(test_values_p):\n",
    "    results=pd.DataFrame(np.unique(real_test.patient_id), columns=['patient_id'])\n",
    "    auc_pr=[]\n",
    "    baseline_pr=[]\n",
    "    days=[]\n",
    "    #data of every patient are processed individually\n",
    "    for patient in np.unique(real_test.patient_id):\n",
    "        #data of every patient\n",
    "        data_p=real_test.loc[real_test.patient_id==patient]\n",
    "        precision, recall, thresholds = precision_recall_curve(test_values_p['real'][data_p.index].to_numpy(), \n",
    "                                                               test_values_p['pred'][data_p.index].to_numpy())\n",
    "        auc_pr.append(auc(recall, precision))\n",
    "        #baseline of every patient calculated with migraines and total number of entries\n",
    "        baseline_pr.append(data_p.loc[data_p['migraine_start']==1].shape[0]/data_p.shape[0])\n",
    "        days.append(data_p.shape[0])\n",
    "    results['days']=days\n",
    "    results['auc_pr']=auc_pr\n",
    "    results['baseline']=baseline_pr\n",
    "    results=results.loc[(results['baseline']!=0)]\n",
    "\n",
    "    return results\n"
   ]
  },
  {
   "cell_type": "code",
   "execution_count": null,
   "id": "3214b148",
   "metadata": {},
   "outputs": [],
   "source": [
    "#baselines calculation for train and test set\n",
    "train = pd.read_csv('train_plus.csv', sep=',', index_col=False, dtype='unicode')#, error_bad_lines=False\n",
    "train = data_prep(train)\n",
    "\n",
    "test = pd.read_csv('test_plus.csv', sep=',', index_col=False, dtype='unicode')#, error_bad_lines=False\n",
    "test = data_prep(test)\n",
    "\n",
    "#BASELINE= (migraine onsets) / (total number of entries)\n",
    "real_train=train.loc[(train['imputation']==0)]\n",
    "pr_train=real_train.loc[real_train['migraine_start']==1].shape[0]/real_train.shape[0]\n",
    "real_test=test.loc[(test['imputation']==0)]\n",
    "pr_test=real_test.loc[real_test['migraine_start']==1].shape[0]/real_test.shape[0]\n",
    "real_test=real_test.reset_index()\n",
    "\n",
    "print(f'Baseline Train AUC PR: {round(pr_train,3)}')\n",
    "print(f'Baseline Test AUC PR: {round(pr_test,3)}')"
   ]
  },
  {
   "cell_type": "markdown",
   "id": "a55de978",
   "metadata": {},
   "source": [
    "# LSTM"
   ]
  },
  {
   "cell_type": "code",
   "execution_count": null,
   "id": "829f2193",
   "metadata": {},
   "outputs": [],
   "source": [
    "#Files with the results of LSTM: 'performance_lstm_train.zip' & 'performance_lstm_test.zip'\n",
    "train_values_p,test_values_p=get_predictions('performance_lstm_train.zip','performance_lstm_test.zip')\n",
    "evalute_results(train_values_p,test_values_p)\n",
    "\n",
    "results_lstm=results_individually(test_values_p)"
   ]
  },
  {
   "cell_type": "code",
   "execution_count": null,
   "id": "0dff62dd",
   "metadata": {},
   "outputs": [],
   "source": [
    "#ratio of patients with AUC Pr better their baseline\n",
    "sum((results_lstm.auc_pr-results_lstm.baseline)>0)/results_lstm.shape[0]"
   ]
  },
  {
   "cell_type": "code",
   "execution_count": null,
   "id": "4338e08e",
   "metadata": {
    "scrolled": true
   },
   "outputs": [],
   "source": [
    "#exclude patients with baseline==0\n",
    "results_lstm=results_lstm.loc[(results_lstm['baseline']!=0)]\n",
    "#scatterplot with aucpr- Baseline for every patient\n",
    "sns.scatterplot(x=results_lstm['days'],\n",
    "                y=(results_lstm['auc_pr'])-results_lstm['baseline'],\n",
    "                hue=results_lstm['baseline'])\n",
    "plt.xlabel('Total number of days')\n",
    "plt.axhline(y=0.1390,color='blue',linestyle='--')\n",
    "\n",
    "plt.axhline(y=0,color='red')\n",
    "plt.ylabel('AUC PR - Baseline')"
   ]
  },
  {
   "cell_type": "code",
   "execution_count": null,
   "id": "89f98664",
   "metadata": {},
   "outputs": [],
   "source": [
    "a=results_lstm['auc_pr']-results_lstm['baseline']\n",
    "#top 80 percent for the best AUC pr - Baseline\n",
    "p = np.percentile(a, 80) \n",
    "#good_results_lstm=results_lstm.loc[(a>p)&(results_lstm['baseline']!=0)].patient_id\n",
    "p"
   ]
  },
  {
   "cell_type": "code",
   "execution_count": null,
   "id": "d2ad5c20",
   "metadata": {},
   "outputs": [],
   "source": [
    "\n",
    "results_lstm=results_lstm.loc[(results_lstm['baseline']!=0)]\n",
    "results_lstm['migraines']=(results_lstm['days']*results_lstm['baseline']).astype(int)\n",
    "\n",
    "sns.scatterplot(x=results_lstm['migraines'],\n",
    "                y=(results_lstm['auc_pr'])-results_lstm['baseline'],\n",
    "                hue=results_lstm['baseline'])\n",
    "plt.xlabel('Migraine days')\n",
    "plt.axhline(y=0.1390,color='blue',linestyle='--')\n",
    "\n",
    "plt.axhline(y=0,color='red')\n",
    "plt.ylabel('AUC PR - Baseline')"
   ]
  },
  {
   "cell_type": "markdown",
   "id": "c0a5aee0",
   "metadata": {},
   "source": [
    "# GRU"
   ]
  },
  {
   "cell_type": "code",
   "execution_count": null,
   "id": "0843b769",
   "metadata": {},
   "outputs": [],
   "source": [
    "train_values_p,test_values_p=get_predictions('performance_gru_train.zip','performance_gru_test.zip')\n",
    "evalute_results(train_values_p,test_values_p)\n",
    "results_gru=results_individually(test_values_p)"
   ]
  },
  {
   "cell_type": "code",
   "execution_count": null,
   "id": "4edc7d16",
   "metadata": {},
   "outputs": [],
   "source": [
    "results_gru=results_gru.loc[(results_gru['baseline']!=0)]\n",
    "sns.scatterplot(x=results_gru['days'],\n",
    "                y=(results_gru['auc_pr'])-results_gru['baseline'],\n",
    "                hue=results_gru['baseline'])\n",
    "plt.xlabel('Days')\n",
    "\n",
    "plt.axhline(y=0,color='red')\n",
    "plt.title(\"GRU\")\n",
    "plt.ylabel('AUC PR - Baseline')"
   ]
  },
  {
   "cell_type": "markdown",
   "id": "83887cf7",
   "metadata": {},
   "source": [
    "## LSTM"
   ]
  },
  {
   "cell_type": "code",
   "execution_count": null,
   "id": "e5c5c6c9",
   "metadata": {},
   "outputs": [],
   "source": [
    "a=results_lstm['auc_pr']-results_lstm['baseline']\n",
    "p = np.percentile(a, 80) \n",
    "good_results_lstm=results_lstm.loc[(a>p)&(results_lstm['baseline']!=0)].patient_id\n"
   ]
  },
  {
   "cell_type": "markdown",
   "id": "757f2227",
   "metadata": {},
   "source": [
    "## GRU"
   ]
  },
  {
   "cell_type": "code",
   "execution_count": null,
   "id": "7f1d6ec5",
   "metadata": {},
   "outputs": [],
   "source": [
    "a=results_gru['auc_pr']-results_gru['baseline']\n",
    "p = np.percentile(a, 80) \n",
    "good_results_gru=results_gru.loc[(a>p)&(results_gru['baseline']!=0)].patient_id"
   ]
  },
  {
   "cell_type": "markdown",
   "id": "01b99621",
   "metadata": {},
   "source": [
    "## Comparison LSTM-GRU"
   ]
  },
  {
   "cell_type": "code",
   "execution_count": null,
   "id": "5ba5b87e",
   "metadata": {},
   "outputs": [],
   "source": [
    "same_patients=(set(good_results_lstm)&set(good_results_gru))\n",
    "\n",
    "results_gru=results_gru.loc[(results_gru['baseline']!=0)]\n",
    "sns.scatterplot(x=results_lstm.loc[results_lstm['patient_id'].isin(same_patients)]['auc_pr'],\n",
    "                y=results_gru.loc[results_gru['patient_id'].isin(same_patients)]['auc_pr'],\n",
    "                hue=results_gru['days'])\n",
    "x=np.linspace(0,1,100)\n",
    "y=x\n",
    "plt.text(0.86,0.905,'y=x',color='red',rotation=45,fontsize=12)\n",
    "plt.plot(x,y,'-r')\n",
    "plt.xlabel('AUC PR for LSTM')\n",
    "plt.ylabel('AUC PR for GRU')\n",
    "\n"
   ]
  },
  {
   "cell_type": "markdown",
   "id": "fa5cc81e",
   "metadata": {},
   "source": [
    "# Exaplainability with LSTM"
   ]
  },
  {
   "cell_type": "markdown",
   "id": "3aefaac1",
   "metadata": {},
   "source": [
    "## Each patient seperatly"
   ]
  },
  {
   "cell_type": "code",
   "execution_count": null,
   "id": "becd66c5",
   "metadata": {},
   "outputs": [],
   "source": [
    "train_values_p,test_values_p=get_predictions('performance_lstm_train.zip','performance_lstm_test.zip')\n",
    "\n",
    "#function to get the results for the performance\n",
    "def fakefunction(x):\n",
    "    return(test_values_p['pred'][x.index])\n",
    "\n",
    "#the shap plot for every patient is produced and displayed individually\n",
    "for patient in good_results_lstm:\n",
    "    data_p=real_test.loc[real_test.patient_id==patient]\n",
    "    \n",
    "    explainer = shap.Explainer(fakefunction, data_p.iloc[:,4:-2])\n",
    "    shap_values = explainer(data_p.iloc[:,4:-2])\n",
    "    shap.plots.bar(shap_values)\n"
   ]
  },
  {
   "cell_type": "markdown",
   "id": "0b5a7e79",
   "metadata": {},
   "source": [
    "## All patients together"
   ]
  },
  {
   "cell_type": "code",
   "execution_count": null,
   "id": "f4393848",
   "metadata": {},
   "outputs": [],
   "source": [
    "data_p=real_test\n",
    "\n",
    "explainer = shap.Explainer(fakefunction, data_p.iloc[:,4:-2])\n",
    "shap_values = explainer(data_p.iloc[:,4:-2])\n",
    "\n",
    "shap.plots.bar(shap_values)\n"
   ]
  },
  {
   "cell_type": "code",
   "execution_count": null,
   "id": "18f40a5d",
   "metadata": {},
   "outputs": [],
   "source": [
    "#shap.plots.beeswarm(shap_values,ylabel=1)\n",
    "fig=shap.summary_plot(shap_values,show=False,\n",
    "                      feature_names=['Temperature','Sun','Precipitation','Pressure','Cloud','Wind','Humidity'])\n",
    "plt.xlim([-0.0027,0.00095])\n",
    "plt.xticks(fontsize=9)\n",
    "\n",
    "plt.show()"
   ]
  }
 ],
 "metadata": {
  "kernelspec": {
   "display_name": "Python 3 (ipykernel)",
   "language": "python",
   "name": "python3"
  },
  "language_info": {
   "codemirror_mode": {
    "name": "ipython",
    "version": 3
   },
   "file_extension": ".py",
   "mimetype": "text/x-python",
   "name": "python",
   "nbconvert_exporter": "python",
   "pygments_lexer": "ipython3",
   "version": "3.8.5"
  }
 },
 "nbformat": 4,
 "nbformat_minor": 5
}
