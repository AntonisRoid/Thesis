{
 "cells": [
  {
   "cell_type": "code",
   "execution_count": null,
   "id": "62fedeb9",
   "metadata": {},
   "outputs": [],
   "source": [
    "import numpy as np\n",
    "import pandas as pd\n",
    "\n",
    "import os\n",
    "from os.path import join, abspath, dirname, realpath\n",
    "import sys\n",
    "\n",
    "import datetime\n",
    "from dateutil.relativedelta import relativedelta\n",
    "from datetime import date, timedelta\n",
    "from dateutil import relativedelta\n",
    "from itertools import islice\n",
    "\n",
    "import matplotlib.pyplot as plt\n",
    "import seaborn as sns\n",
    "\n",
    "import csv\n",
    "import sklearn\n",
    "import sklearn.preprocessing\n",
    "from datetime import date, timedelta\n",
    "import dateutil\n",
    "from dateutil.relativedelta import relativedelta\n",
    "from functions import *"
   ]
  },
  {
   "cell_type": "code",
   "execution_count": null,
   "id": "03f49ef1",
   "metadata": {},
   "outputs": [],
   "source": [
    "df_clean=pd.read_csv(\"df_clean.csv\")\n",
    "weather_full=pd.read_csv(\"weather_full.csv\")\n",
    "\n",
    "#correcting the type for every variable\n",
    "df_clean['temp_avg']=df_clean['temp_avg'].astype(float)\n",
    "df_clean['date']=pd.to_datetime(df_clean['date'])\n",
    "df_clean.reset_index(drop=True, inplace=True)\n",
    "df_clean['migraine_start']=df_clean['migraine_start'].astype(int)\n",
    "\n",
    "weather_full['date']=pd.to_datetime(weather_full['date'])\n"
   ]
  },
  {
   "cell_type": "code",
   "execution_count": null,
   "id": "da24c188",
   "metadata": {
    "scrolled": true
   },
   "outputs": [],
   "source": [
    "print(\"last date:\",max(df_clean['date']))\n",
    "#Data split in train and test set. Avoidance of autocorrelation by NOT using same time periods and same patients \n",
    "train, test = data_split(df_clean,test_first_day=datetime.datetime(2021, 1, 16),test_size=relativedelta(years=1))\n",
    "print(\"test/train size:\",round(test.shape[0]/train.shape[0],2))\n",
    "print(\"missing data\",round(1-(train.shape[0]+test.shape[0])/231117,2))\n",
    "print('-----') \n"
   ]
  },
  {
   "cell_type": "code",
   "execution_count": null,
   "id": "43500833",
   "metadata": {},
   "outputs": [],
   "source": [
    "#DATA_PATH = abspath(join(os.getcwd(),\"Desktop\",\"df_clean_plus.csv\"))\n",
    "\n",
    "train.reset_index(drop=True,inplace=True)\n",
    "test.reset_index(drop=True,inplace=True)\n",
    "\n",
    "train.to_csv(\"train.csv\",index=False)\n",
    "test.to_csv(\"test.csv\",index=False)"
   ]
  },
  {
   "cell_type": "markdown",
   "id": "3f26d979",
   "metadata": {},
   "source": [
    "## train_plus.csv"
   ]
  },
  {
   "cell_type": "markdown",
   "id": "f18ee849",
   "metadata": {},
   "source": [
    "train data with the addition of imputation and order of sequences"
   ]
  },
  {
   "cell_type": "code",
   "execution_count": null,
   "id": "45a23ce1",
   "metadata": {},
   "outputs": [],
   "source": [
    "#setting a new variable for the order to the patients' sequences, so that they are processed individually\n",
    "train_clean=order_split(train)\n",
    "#imputation variable indicates whether data entry is imputed or not\n",
    "train_clean['imputation']=0\n",
    "missin=fill_missing(train_clean,weather_full)\n",
    "missin.reset_index(drop=True, inplace=True)\n",
    "#adding imputed data\n",
    "train_plus = train_clean.append(missin)\n",
    "train_plus['migraine_start']=train_plus['migraine_start'].astype(int)\n",
    "train_plus['imputation']=train_plus['imputation'].astype(int)\n",
    "train_plus['date']=pd.to_datetime(train_plus['date'])\n",
    "train_plus.to_csv(\"train_plus.csv\",index=False)"
   ]
  },
  {
   "cell_type": "markdown",
   "id": "79cb6a99",
   "metadata": {},
   "source": [
    "## test_plus.csv\n"
   ]
  },
  {
   "cell_type": "markdown",
   "id": "901c4e1e",
   "metadata": {},
   "source": [
    "test data with the addition of imputation and order of sequences"
   ]
  },
  {
   "cell_type": "code",
   "execution_count": null,
   "id": "b71eeee7",
   "metadata": {},
   "outputs": [],
   "source": [
    "#setting a new variable for the order to the patients' sequences, so that they are processed individually\n",
    "test_clean=order_split(test)\n",
    "#imputation variable indicates whether data entry is imputed or not\n",
    "test_clean['imputation']=0\n",
    "missin=fill_missing(test_clean,weather_full)\n",
    "missin.reset_index(drop=True, inplace=True)\n",
    "#adding imputed data\n",
    "test_plus = test_clean.append(missin)\n",
    "test_plus['migraine_start']=test_plus['migraine_start'].astype(int)\n",
    "test_plus['imputation']=test_plus['imputation'].astype(int)\n",
    "test_plus['date']=pd.to_datetime(test_plus['date'])\n",
    "test_plus.to_csv(\"test_plus.csv\",index=False)"
   ]
  },
  {
   "cell_type": "markdown",
   "id": "59b43c7a",
   "metadata": {},
   "source": [
    "## df_clean_plus.csv"
   ]
  },
  {
   "cell_type": "markdown",
   "id": "1a4dcec1",
   "metadata": {},
   "source": [
    "same process for the creation of the full dataset + imputation + order"
   ]
  },
  {
   "cell_type": "code",
   "execution_count": null,
   "id": "b4bf3449",
   "metadata": {},
   "outputs": [],
   "source": [
    "df_clean_plusx=order_split(df_clean)\n",
    "df_clean_plusx['imputation']=0\n",
    "missin=fill_missing(df_clean_plusx,weather_full)\n",
    "missin.reset_index(drop=True, inplace=True)\n",
    "df_clean_plus = df_clean_plusx.append(missin)\n",
    "\n",
    "df_clean_plus['migraine_start']=df_clean_plus['migraine_start'].astype(int)\n",
    "df_clean_plus['imputation']=df_clean_plus['imputation'].astype(int)\n",
    "df_clean_plus['date']=pd.to_datetime(df_clean_plus['date'])\n",
    "\n",
    "df_clean_plus.to_csv('df_clean_plus.csv',index=False)"
   ]
  },
  {
   "cell_type": "markdown",
   "id": "3171f700",
   "metadata": {},
   "source": [
    "## Days per patient"
   ]
  },
  {
   "cell_type": "code",
   "execution_count": null,
   "id": "d1f16de2",
   "metadata": {},
   "outputs": [],
   "source": [
    "df=df_clean\n",
    "d=[]\n",
    "#Calculation of the days per patient\n",
    "for i in np.unique(df['patient_id']):\n",
    "    total=(max(df.loc[df.patient_id==i]['date'])-min(df.loc[df.patient_id==i]['date'])).days\n",
    "    d.append(sum(df.loc[df.patient_id==i]['migraine_start'])*2+total)\n"
   ]
  },
  {
   "cell_type": "code",
   "execution_count": null,
   "id": "dd614c40",
   "metadata": {},
   "outputs": [],
   "source": [
    "#Total number of days in train set\n",
    "max(train['date'])-min(train['date'])#.days/6\n"
   ]
  },
  {
   "cell_type": "markdown",
   "id": "295db6a3",
   "metadata": {},
   "source": [
    "## Split for cross validation"
   ]
  },
  {
   "cell_type": "code",
   "execution_count": null,
   "id": "296e9d99",
   "metadata": {},
   "outputs": [],
   "source": [
    "s=pd.date_range(start=min(train['date']),end=max(train['date']))\n",
    "periods=np.array_split(s, 5)\n",
    "periods"
   ]
  },
  {
   "cell_type": "markdown",
   "id": "7db32ee5",
   "metadata": {},
   "source": [
    "# Data split graphs"
   ]
  },
  {
   "cell_type": "code",
   "execution_count": null,
   "id": "cac64ae0",
   "metadata": {},
   "outputs": [],
   "source": [
    "patients=[]\n",
    "#patient's data for the duration of 12 months in the train set\n",
    "for i in (range(12)):\n",
    "    x=train[train['date'].dt.month==i+1]\n",
    "    y=x['date'].dt.day.value_counts()\n",
    "    y=y.sort_index()\n",
    "    y=y.to_list()\n",
    "    patients.extend(y)\n",
    "\n",
    "#same for the test set\n",
    "patients_test=[]\n",
    "for i in (range(12)):\n",
    "    x=test[test['date'].dt.month==i+1]\n",
    "    y=x['date'].dt.day.value_counts()\n",
    "    y=y.sort_index()\n",
    "    y=y.to_list()\n",
    "    patients_test.extend(y)\n"
   ]
  },
  {
   "cell_type": "code",
   "execution_count": null,
   "id": "e6a8917a",
   "metadata": {},
   "outputs": [],
   "source": [
    "f = plt.figure()\n",
    "f.set_figwidth(20)\n",
    "f.set_figheight(10)\n",
    "plt.ylim([0, 550])\n",
    "\n",
    "plt.rcParams.update({'font.size': 15})\n",
    "\n",
    "plt.plot(range(366),patients,color='g',label='train')\n",
    "plt.plot(range(365),patients_test,color='r',label='test')\n",
    "\n",
    "plt.legend()\n",
    "plt.xlabel(\"Days\")\n",
    "plt.title(\"Number of patients per day\")\n",
    "plt.ylabel(\"Patients\")\n",
    "plt.show()"
   ]
  },
  {
   "cell_type": "code",
   "execution_count": null,
   "id": "99e92fac",
   "metadata": {},
   "outputs": [],
   "source": [
    "total_days=max(df['date'])-min(df['date'])\n",
    "pat_num=[]\n",
    "first_day=min(df['date'])\n",
    "\n",
    "#finding number of patients per day for every day of the study\n",
    "for i in range(total_days.days+1):\n",
    "    \n",
    "    day = first_day + timedelta(days=i)\n",
    "    pat_num.append(df[df['date']==day].shape[0])\n"
   ]
  },
  {
   "cell_type": "code",
   "execution_count": null,
   "id": "d2c2393a",
   "metadata": {},
   "outputs": [],
   "source": [
    "f = plt.figure()\n",
    "f.set_figwidth(20)\n",
    "f.set_figheight(10)\n",
    "plt.rcParams.update({'font.size': 15})\n",
    "\n",
    "plt.plot(range(total_days.days+1),pat_num)\n",
    "plt.axvline(x=total_days.days,color='r')\n",
    "plt.axvline(x=total_days.days-365,color='r')\n",
    "plt.axvline(x=total_days.days-730,color='r')\n",
    "plt.axvline(x=total_days.days-1095,color='r')\n",
    "\n",
    "plt.xlabel(\"Days\")\n",
    "\n",
    "plt.ylabel(\"Patients\")\n",
    "plt.show()"
   ]
  }
 ],
 "metadata": {
  "kernelspec": {
   "display_name": "Python 3 (ipykernel)",
   "language": "python",
   "name": "python3"
  },
  "language_info": {
   "codemirror_mode": {
    "name": "ipython",
    "version": 3
   },
   "file_extension": ".py",
   "mimetype": "text/x-python",
   "name": "python",
   "nbconvert_exporter": "python",
   "pygments_lexer": "ipython3",
   "version": "3.8.5"
  }
 },
 "nbformat": 4,
 "nbformat_minor": 5
}
